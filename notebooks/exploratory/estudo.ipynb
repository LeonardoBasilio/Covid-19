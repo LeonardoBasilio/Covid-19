{
 "cells": [
  {
   "cell_type": "code",
   "execution_count": null,
   "metadata": {},
   "outputs": [],
   "source": [
    "import pandas as pd\n",
    "import numpy as np\n",
    "import matplotlib.pyplot as plt\n",
    "from matplotlib import cm\n"
   ]
  },
  {
   "cell_type": "markdown",
   "metadata": {},
   "source": [
    "# Métricas Epidemiológicas"
   ]
  },
  {
   "cell_type": "code",
   "execution_count": null,
   "metadata": {},
   "outputs": [],
   "source": [
    "pathArquivo = '../../data/processed/df_processed.csv'\n",
    "print(pathArquivo)"
   ]
  },
  {
   "cell_type": "code",
   "execution_count": null,
   "metadata": {},
   "outputs": [],
   "source": [
    "dfMetricas = pd.read_csv(pathArquivo, sep=\",\", encoding=\"UTF-8\", na_values=[\"NA\"])\n",
    "print(\"Colunas disponíveis:\", list(dfMetricas))\n"
   ]
  },
  {
   "cell_type": "code",
   "execution_count": null,
   "metadata": {},
   "outputs": [],
   "source": [
    "colunas = [\n",
    "    \"dataNotificacao\", \"dataInicioSintomas\", \"dataEncerramento\",\n",
    "    \"estado\", \"estadoIBGE\", \"municipio\", \"municipioIBGE\",\n",
    "    \"classificacaoFinal\", \"evolucaoCaso\",\n",
    "    \"codigoResultadoTeste1\", \"codigoResultadoTeste2\", \"codigoResultadoTeste3\", \"codigoResultadoTeste4\",\n",
    "    \"dataColetaTeste1\", \"dataColetaTeste2\", \"dataColetaTeste3\", \"dataColetaTeste4\",\n",
    "    \"idade\", \"sexo\"\n",
    "]\n",
    "\n",
    "dfMetricasEpidemicas = dfMetricas[colunas]\n"
   ]
  },
  {
   "cell_type": "code",
   "execution_count": null,
   "metadata": {},
   "outputs": [],
   "source": [
    "dfMetricasEpidemicas"
   ]
  },
  {
   "cell_type": "markdown",
   "metadata": {},
   "source": [
    "## Gerar colunas para identificar Resultado dos casos\n",
    "\n",
    "#### Resultado dos casos\n",
    "\n",
    "- 1. Reagente/Detectável \n",
    "- 2. Não Reagente/Não detectável \n",
    "- 9. Inválido/ Inconclusivo ou Indeterminado"
   ]
  },
  {
   "cell_type": "code",
   "execution_count": null,
   "metadata": {},
   "outputs": [],
   "source": [
    "dfMetricasEpidemicas[\"casosConfirmados\"] = (dfMetricasEpidemicas[\"codigoResultadoTeste1\"] == 1.0).astype(int)\n",
    "dfMetricasEpidemicas[\"casosDescartados\"] = (dfMetricasEpidemicas[\"codigoResultadoTeste1\"] == 2.0).astype(int)\n",
    "dfMetricasEpidemicas[\"casosInconclusivos\"] = (dfMetricasEpidemicas[\"codigoResultadoTeste1\"] == 9.0).astype(int)"
   ]
  },
  {
   "cell_type": "markdown",
   "metadata": {},
   "source": [
    "## Gerar colunas para identificar evolução dos casos\n",
    "\n",
    "#### Evolução do Caso\n",
    "\n",
    " - Em tratamento \n",
    "- domiciliar \n",
    "- Internado em UTI \n",
    "- Internado \n",
    "- Óbito \n",
    "- Cura \t"
   ]
  },
  {
   "cell_type": "code",
   "execution_count": null,
   "metadata": {},
   "outputs": [],
   "source": [
    "\n",
    "dfMetricasEpidemicas[\"Óbito\"] = (dfMetricasEpidemicas[\"evolucaoCaso\"]==\"Óbito\").astype(int)\n",
    "dfMetricasEpidemicas[\"Cura\"] = (dfMetricasEpidemicas[\"evolucaoCaso\"]==\"Cura\").astype(int)"
   ]
  },
  {
   "cell_type": "code",
   "execution_count": null,
   "metadata": {},
   "outputs": [],
   "source": [
    "dfMetricasEpidemicas[\"Populacao\"] = 1"
   ]
  },
  {
   "cell_type": "code",
   "execution_count": null,
   "metadata": {},
   "outputs": [],
   "source": [
    "dfMetricasEpidemicas[\"FaixaIdade\"] = \"sem referencia\"\n",
    "dfMetricasEpidemicas.loc[(dfMetricasEpidemicas[\"idade\"] >= 0) & (dfMetricasEpidemicas[\"idade\"] < 18), \"FaixaIdade\"] = \"0-18\"\n",
    "dfMetricasEpidemicas.loc[(dfMetricasEpidemicas[\"idade\"] >= 18) & (dfMetricasEpidemicas[\"idade\"] < 30), \"FaixaIdade\"] = \"19-30\"\n",
    "dfMetricasEpidemicas.loc[(dfMetricasEpidemicas[\"idade\"] >= 30) & (dfMetricasEpidemicas[\"idade\"] < 45), \"FaixaIdade\"] = \"31-45\"\n",
    "dfMetricasEpidemicas.loc[(dfMetricasEpidemicas[\"idade\"] >= 45) & (dfMetricasEpidemicas[\"idade\"] < 60), \"FaixaIdade\"] = \"46-60\"\n",
    "dfMetricasEpidemicas.loc[(dfMetricasEpidemicas[\"idade\"] >= 60) & (dfMetricasEpidemicas[\"idade\"] < 75), \"FaixaIdade\"] = \"61-75\"\n",
    "dfMetricasEpidemicas.loc[dfMetricasEpidemicas[\"idade\"] >= 75, \"FaixaIdade\"] = \"76+\""
   ]
  },
  {
   "cell_type": "code",
   "execution_count": null,
   "metadata": {},
   "outputs": [],
   "source": [
    "colunas = [\n",
    "    \"dataNotificacao\", \"dataInicioSintomas\", \"dataEncerramento\",\"estado\", \"estadoIBGE\", \"municipio\",\n",
    "    \"classificacaoFinal\",\"dataColetaTeste1\",\"FaixaIdade\", \"sexo\",\n",
    "    \"Óbito\",\"Cura\",\"casosConfirmados\",\"casosDescartados\",\"casosInconclusivos\",\"Populacao\"\n",
    "]\n",
    "\n",
    "dfFinal = dfMetricasEpidemicas[colunas]\n"
   ]
  },
  {
   "cell_type": "markdown",
   "metadata": {},
   "source": [
    "### Utilizando MatplotLib"
   ]
  },
  {
   "cell_type": "code",
   "execution_count": null,
   "metadata": {},
   "outputs": [],
   "source": [
    "total_confirmados = dfFinal[\"casosConfirmados\"].sum()\n",
    "total_descartados = dfFinal[\"casosDescartados\"].sum()\n",
    "total_inconclusivos = dfFinal[\"casosInconclusivos\"].sum()\n",
    "\n",
    "total_testados = total_confirmados + total_descartados\n",
    "taxa_positividade = (total_confirmados / total_testados) * 100\n",
    "\n",
    "total_obitos = dfFinal[\"Óbito\"].sum()\n",
    "taxa_letalidade = (total_obitos / total_confirmados) * 100\n",
    "\n",
    "total_populacao = dfFinal[\"Populacao\"].sum()\n",
    "taxa_mortalidade = (total_obitos / total_populacao) * 100000\n",
    "\n",
    "total_recuperados = dfFinal[\"Cura\"].sum()\n",
    "taxa_recuperacao = (total_recuperados / total_confirmados) * 100"
   ]
  },
  {
   "cell_type": "code",
   "execution_count": null,
   "metadata": {},
   "outputs": [],
   "source": [
    "# Dados\n",
    "casos = [\"Confirmados\", \"Descartados\", \"Inconclusivos\"]\n",
    "valores = [total_confirmados, total_descartados, total_inconclusivos]\n",
    "\n",
    "# Estilo\n",
    "plt.style.use('seaborn')\n",
    "\n",
    "# Configuração do Gráfico\n",
    "plt.figure(figsize=(10, 6))\n",
    "cores = cm.get_cmap(\"Set2\", len(valores))\n",
    "plt.bar(casos, valores, color=[cores(i) for i in range(len(valores))])\n",
    "\n",
    "# Títulos e Rótulos\n",
    "plt.title(\"Distribuição de Casos por Categoria\", fontsize=16, fontweight='bold')\n",
    "plt.xlabel(\"Categoria\", fontsize=12)\n",
    "plt.ylabel(\"Total de Casos\", fontsize=12)\n",
    "plt.xticks(fontsize=10)\n",
    "plt.yticks(fontsize=10)\n",
    "\n",
    "# Grade e Rótulos\n",
    "plt.grid(axis='y', linestyle='--', alpha=0.7)\n",
    "for i, valor in enumerate(valores):\n",
    "    plt.text(i, valor + 50, str(valor), ha='center', fontsize=10)\n",
    "\n",
    "# Salvar e Mostrar\n",
    "plt.tight_layout()\n",
    "plt.savefig(\"distribuicao_casos.png\", dpi=300, bbox_inches='tight')\n",
    "plt.show()"
   ]
  },
  {
   "cell_type": "code",
   "execution_count": null,
   "metadata": {},
   "outputs": [],
   "source": [
    "# Dados\n",
    "casos = [\"População Geral\", \"Testes Realizados\", \"Recuperados\", \"Óbitos\"]\n",
    "valores = [total_populacao,total_testados, total_recuperados, total_obitos]\n",
    "\n",
    "\n",
    "# Estilo\n",
    "plt.style.use('seaborn')\n",
    "\n",
    "# Configuração do Gráfico\n",
    "plt.figure(figsize=(10, 6))\n",
    "cores = cm.get_cmap(\"Set2\", len(valores))\n",
    "plt.bar(casos, valores, color=[cores(i) for i in range(len(valores))])\n",
    "\n",
    "# Títulos e Rótulos\n",
    "plt.title(\"Distribuição de Casos por Categoria\", fontsize=16, fontweight='bold')\n",
    "plt.xlabel(\"Categoria\", fontsize=12)\n",
    "plt.ylabel(\"Total de Casos\", fontsize=12)\n",
    "plt.xticks(fontsize=10)\n",
    "plt.yticks(fontsize=10)\n",
    "\n",
    "# Grade e Rótulos\n",
    "plt.grid(axis='y', linestyle='--', alpha=0.7)\n",
    "for i, valor in enumerate(valores):\n",
    "    plt.text(i, valor + 50, str(valor), ha='center', fontsize=10)\n",
    "\n",
    "# Salvar e Mostrar\n",
    "plt.tight_layout()\n",
    "plt.savefig(\"Mapeamento_Casos.png\", dpi=300, bbox_inches='tight')\n",
    "plt.show()"
   ]
  },
  {
   "cell_type": "code",
   "execution_count": null,
   "metadata": {},
   "outputs": [],
   "source": [
    "\n",
    "# Dados de exemplo (substitua pelos seus valores)\n",
    "masculino_total_testados = 7000\n",
    "feminino_total_testados = 8000\n",
    "masculino_confirmados = 3500\n",
    "feminino_confirmados = 4000\n",
    "\n",
    "# Cálculos\n",
    "masculino_positividade = (masculino_confirmados / masculino_total_testados) * 100\n",
    "feminino_positividade = (feminino_confirmados / feminino_total_testados) * 100\n",
    "\n",
    "# Dados para o gráfico\n",
    "labels = [\"Masculino\", \"Feminino\"]\n",
    "total_testados = [masculino_total_testados, feminino_total_testados]\n",
    "cores = [\"#1f77b4\", \"#ff69b4\"]  # Azul para masculino, Rosa para feminino\n",
    "\n",
    "# Criar gráfico de Donut\n",
    "fig, ax = plt.subplots(figsize=(8, 6))\n",
    "wedges, texts, autotexts = ax.pie(\n",
    "    total_testados,\n",
    "    labels=labels,\n",
    "    autopct=lambda p: f\"{p:.1f}%\" if p > 0 else \"\",\n",
    "    startangle=90,\n",
    "    wedgeprops=dict(width=0.4, edgecolor=\"w\"),\n",
    "    colors=cores,  # Aplicar cores\n",
    ")\n",
    "\n",
    "# Títulos e Estilo\n",
    "plt.setp(autotexts, size=12, weight=\"bold\", color=\"black\")\n",
    "ax.set_title(\"Distribuição de Testados por Gênero\", fontsize=16, fontweight=\"bold\")\n",
    "\n",
    "# Adicionar informações de taxa de positividade ao centro\n",
    "info_text = (\n",
    "    f\"Masculino: {masculino_positividade:.1f}%\\n\"\n",
    "    f\"Feminino: {feminino_positividade:.1f}%\"\n",
    ")\n",
    "ax.text(0, 0, info_text, ha=\"center\", va=\"center\", fontsize=12, weight=\"bold\", color=\"black\")\n",
    "\n",
    "# Ajustar layout e mostrar\n",
    "plt.tight_layout()\n",
    "plt.show()\n"
   ]
  },
  {
   "cell_type": "code",
   "execution_count": null,
   "metadata": {},
   "outputs": [],
   "source": [
    "\n",
    "# Dados de exemplo\n",
    "dados = {\n",
    "    \"mes\": [\"Jan\", \"Fev\", \"Mar\", \"Abr\", \"Mai\", \"Jun\"],\n",
    "    \"total_casos\": [1000, 1200, 1500, 1300, 1700, 1800],\n",
    "    \"total_obitos\": [50, 60, 70, 65, 85, 90],\n",
    "}\n",
    "\n",
    "df = pd.DataFrame(dados)\n",
    "\n",
    "# Calcular percentual de óbitos\n",
    "df[\"percentual_obitos\"] = (df[\"total_obitos\"] / df[\"total_casos\"]) * 100\n",
    "\n",
    "# Criar o gráfico\n",
    "fig, ax1 = plt.subplots(figsize=(10, 6))\n",
    "\n",
    "# Gráfico de barras para total de casos\n",
    "ax1.bar(df[\"mes\"], df[\"total_casos\"], color=\"steelblue\", label=\"Total de Casos\")\n",
    "ax1.set_xlabel(\"Mês\", fontsize=12)\n",
    "ax1.set_ylabel(\"Total de Casos\", fontsize=12)\n",
    "ax1.tick_params(axis=\"y\")\n",
    "ax1.legend(loc=\"upper left\", fontsize=10)\n",
    "\n",
    "# Remover linhas de grade do eixo Y principal (barras)\n",
    "ax1.grid(axis='y', visible=False)\n",
    "\n",
    "# Gráfico de linha para percentual de óbitos\n",
    "ax2 = ax1.twinx()  # Segundo eixo y\n",
    "ax2.plot(df[\"mes\"], df[\"percentual_obitos\"], color=\"gray\", marker=\"o\", label=\"% de Óbitos\", linewidth=2)\n",
    "ax2.set_ylabel(\"Percentual de Óbitos (%)\", fontsize=12, color=\"gray\")\n",
    "ax2.tick_params(axis=\"y\", labelcolor=\"gray\")\n",
    "ax2.legend(loc=\"upper right\", fontsize=10)\n",
    "ax2.grid(axis='y', visible=False)\n",
    "\n",
    "# Adicionar rótulos nos pontos da linha\n",
    "for i, valor in enumerate(df[\"percentual_obitos\"]):\n",
    "    ax2.text(i, valor, f\"{valor:.1f}%\", color=\"black\", fontsize=10, ha=\"center\", va=\"bottom\")\n",
    "\n",
    "# Ajustar limites do eixo Y para garantir espaço para os rótulos\n",
    "ax2.set_ylim(0, df[\"percentual_obitos\"].max() + 10)\n",
    "\n",
    "# Melhorar a exibição dos rótulos do eixo X\n",
    "ax1.set_xticks(range(len(df[\"mes\"])))\n",
    "ax1.set_xticklabels(df[\"mes\"], fontsize=10)\n",
    "\n",
    "# Título\n",
    "plt.title(\"Total de Casos e Percentual de Óbitos por Mês\", fontsize=16, fontweight=\"bold\")\n",
    "\n",
    "# Ajustar layout e exibir\n",
    "plt.tight_layout()\n",
    "plt.show()\n"
   ]
  }
 ],
 "metadata": {
  "language_info": {
   "name": "python"
  }
 },
 "nbformat": 4,
 "nbformat_minor": 2
}
