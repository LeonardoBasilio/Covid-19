{
 "cells": [
  {
   "cell_type": "markdown",
   "metadata": {},
   "source": [
    "# Limpeza de dados e estruturação"
   ]
  },
  {
   "cell_type": "code",
   "execution_count": 5,
   "metadata": {},
   "outputs": [],
   "source": [
    "import numpy as np\n",
    "import pandas as pd\n"
   ]
  },
  {
   "cell_type": "code",
   "execution_count": 6,
   "metadata": {},
   "outputs": [],
   "source": [
    "from configyaml import load_config\n",
    "config = load_config()"
   ]
  },
  {
   "cell_type": "code",
   "execution_count": 7,
   "metadata": {},
   "outputs": [
    {
     "name": "stdout",
     "output_type": "stream",
     "text": [
      "../data/raw/part-00000-87a9b3ed-0740-4af5-8394-4b8425895386.c000 (1).csv\n"
     ]
    }
   ],
   "source": [
    "raw_data_path = f\"../{config['directories']['raw_data']}/part-00000-87a9b3ed-0740-4af5-8394-4b8425895386.c000 (1).csv\"\n",
    "print(raw_data_path)"
   ]
  },
  {
   "cell_type": "code",
   "execution_count": 8,
   "metadata": {},
   "outputs": [
    {
     "name": "stderr",
     "output_type": "stream",
     "text": [
      "C:\\Users\\leoba\\AppData\\Local\\Temp\\ipykernel_27952\\3869584644.py:3: DtypeWarning: Columns (23) have mixed types. Specify dtype option on import or set low_memory=False.\n",
      "  dataPaciente = pd.read_csv(raw_data_path, sep=\";\", encoding=\"UTF-8\")\n"
     ]
    },
    {
     "name": "stdout",
     "output_type": "stream",
     "text": [
      "Colunas disponíveis: ['sintomas', 'profissionalSaude', 'racaCor', 'outrosSintomas', 'outrasCondicoes', 'profissionalSeguranca', 'cbo', 'condicoes', 'sexo', 'estado', 'estadoIBGE', 'municipio', 'municipioIBGE', 'origem', 'estadoNotificacao', 'municipioNotificacao', 'municipioNotificacaoIBGE', 'evolucaoCaso', 'classificacaoFinal', 'codigoEstrategiaCovid', 'codigoBuscaAtivaAssintomatico', 'outroBuscaAtivaAssintomatico', 'codigoTriagemPopulacaoEspecifica', 'outroTriagemPopulacaoEspecifica', 'codigoLocalRealizacaoTestagem', 'outroLocalRealizacaoTestagem', 'codigoRecebeuVacina', 'codigoLaboratorioPrimeiraDose', 'codigoLaboratorioSegundaDose', 'lotePrimeiraDose', 'loteSegundaDose', 'codigoContemComunidadeTradicional', 'source_id', 'excluido', 'validado', 'codigoDosesVacina', 'estadoNotificacaoIBGE', 'totalTestesRealizados', 'dataNotificacao', 'dataInicioSintomas', 'dataEncerramento', 'dataPrimeiraDose', 'dataSegundaDose', 'codigoEstadoTeste1', 'codigoTipoTeste1', 'codigoFabricanteTeste1', 'codigoResultadoTeste1', 'codigoEstadoTeste2', 'codigoTipoTeste2', 'codigoFabricanteTeste2', 'codigoResultadoTeste2', 'codigoEstadoTeste3', 'codigoTipoTeste3', 'codigoFabricanteTeste3', 'codigoResultadoTeste3', 'codigoEstadoTeste4', 'codigoTipoTeste4', 'codigoFabricanteTeste4', 'codigoResultadoTeste4', 'dataColetaTeste1', 'dataColetaTeste2', 'dataColetaTeste3', 'dataColetaTeste4', 'idade']\n"
     ]
    }
   ],
   "source": [
    "#lista para colunas com IDENTIFICAÇÃO DO PACIENTE\n",
    "\n",
    "dataPaciente = pd.read_csv(raw_data_path, sep=\";\", encoding=\"UTF-8\")\n",
    "print(\"Colunas disponíveis:\", list(dataPaciente))\n"
   ]
  },
  {
   "cell_type": "markdown",
   "metadata": {},
   "source": [
    "## Dataframes para mapear os códigos da base principal "
   ]
  },
  {
   "cell_type": "code",
   "execution_count": 132,
   "metadata": {},
   "outputs": [],
   "source": [
    "dim_codigoLocalRealizacaoTestagem = pd.DataFrame({\n",
    "    \"codigoLocalRealizacaoTestagem\": [\"1\", \"2\", \"3\", \"4\", \"5\"],\n",
    "    \"Descricao\": [\n",
    "        \"Serviço de saúde (UBS, hospital, UPA etc.)\",\n",
    "        \"Local de trabalho\",\n",
    "        \"Aeroporto\",\n",
    "        \"Farmácia ou drogaria\",\n",
    "        \"Escola\"\n",
    "    ]\n",
    "})"
   ]
  },
  {
   "cell_type": "code",
   "execution_count": 131,
   "metadata": {},
   "outputs": [],
   "source": [
    "dim_codigoTriagemPopulacaoEspecifica = pd.DataFrame({\n",
    "    \"codigoTriagemPopulacaoEspecifica\": [\"1\", \"2\", \"3\", \"4\", \"5\"],\n",
    "    \"Descricao\": [\n",
    "        \"Trabalhadores de serviços essenciais ou estratégicos\",\n",
    "        \"Profissionais de saúde\",\n",
    "        \"Gestantes e puérperas\",\n",
    "        \"Povos e comunidades tradicionais\",\n",
    "        \"Outros\"\n",
    "    ]\n",
    "})\n"
   ]
  },
  {
   "cell_type": "code",
   "execution_count": 130,
   "metadata": {},
   "outputs": [],
   "source": [
    "dim_codigoEstrategiaCovid = pd.DataFrame({\n",
    "    \"codigoEstrategiaCovid\": [\"1\", \"2\", \"3\"],\n",
    "    \"Descricao\": [\n",
    "        \"Diagnóstico assistencial (sintomático)\",\n",
    "        \"Busca ativa de assintomático\",\n",
    "        \"Triagem de população específica\"\n",
    "    ]\n",
    "})"
   ]
  },
  {
   "cell_type": "code",
   "execution_count": 129,
   "metadata": {},
   "outputs": [],
   "source": [
    "dim_codigoRecebeuVacina = pd.DataFrame({\n",
    "    \"codigoRecebeuVacina\": [\"1\", \"2\", \"3\"],\n",
    "    \"Descricao\": [\"Sim\", \"Não\", \"Ignorado\"]\n",
    "})\n"
   ]
  },
  {
   "cell_type": "code",
   "execution_count": 128,
   "metadata": {},
   "outputs": [],
   "source": [
    "dim_codigoDosesVacina = pd.DataFrame({\n",
    "    \"codigoDosesVacina\": [\"1\", \"2\"],\n",
    "    \"Descricao\": [\"1ª Dose\", \"2ª Dose\"]\n",
    "})\n"
   ]
  },
  {
   "cell_type": "code",
   "execution_count": 127,
   "metadata": {},
   "outputs": [],
   "source": [
    "dim_codigoTipoTeste = pd.DataFrame({\n",
    "    \"codigoTipoTeste\": [\"1\", \"2\", \"3\", \"4\", \"5\", \"6\", \"7\", \"8\", \"9\"],\n",
    "    \"Descricao\": [\n",
    "        \"RT-PCR\",\n",
    "        \"RT LAMP\",\n",
    "        \"Teste rápido de antígeno\",\n",
    "        \"Teste rápido de anticorpo IgM\",\n",
    "        \"Teste rápido de anticorpo IgG\",\n",
    "        \"Teste sorológico IgA\",\n",
    "        \"Teste sorológico IgM\",\n",
    "        \"Teste sorológico IgG\",\n",
    "        \"Teste sorológico – anticorpos totais\"\n",
    "    ]\n",
    "})\n"
   ]
  },
  {
   "cell_type": "code",
   "execution_count": 126,
   "metadata": {},
   "outputs": [],
   "source": [
    "dim_codigoEstadoTeste = pd.DataFrame({\n",
    "    \"codigoEstadoTeste\": [\"1\", \"2\", \"3\", \"4\"],\n",
    "    \"Descricao\": [\"Solicitado\", \"Concluído\", \"Coletado\", \"Não Solicitado\"]\n",
    "})\n"
   ]
  },
  {
   "cell_type": "code",
   "execution_count": 125,
   "metadata": {},
   "outputs": [],
   "source": [
    "dim_codigoResultadoTeste = pd.DataFrame({\n",
    "    \"codigoResultadoTeste\": [\"1\", \"2\", \"3\"],\n",
    "    \"Descricao\": [\n",
    "        \"Reagente/Detectável\",\n",
    "        \"Não Reagente/Não Detectável\",\n",
    "        \"Inválido/Inconclusivo ou Indeterminado\"\n",
    "    ]\n",
    "})\n"
   ]
  },
  {
   "cell_type": "code",
   "execution_count": 124,
   "metadata": {},
   "outputs": [],
   "source": [
    "dim_codigoBuscaAtivaAssintomatico = pd.DataFrame({\n",
    "    \"codigoBuscaAtivaAssintomatico\": [\"1\", \"2\", \"3\", \"4\"],\n",
    "    \"Descricao\": [\n",
    "        \"Monitoramento de contatos\",\n",
    "        \"Investigação de surtos\",\n",
    "        \"Monitoramento de viajantes com risco de VOC (quarentena)\",\n",
    "        \"Outro\"\n",
    "    ]\n",
    "})"
   ]
  },
  {
   "cell_type": "code",
   "execution_count": 120,
   "metadata": {},
   "outputs": [
    {
     "name": "stdout",
     "output_type": "stream",
     "text": [
      "codigoRecebeuVacina              object\n",
      "codigoDosesVacina                object\n",
      "codigoTipoTeste1                 object\n",
      "codigoEstadoTeste1               object\n",
      "codigoResultadoTeste1            object\n",
      "codigoBuscaAtivaAssintomatico    object\n",
      "dtype: object\n"
     ]
    }
   ],
   "source": [
    "dim_colunas = [\n",
    "    \"codigoRecebeuVacina\",\n",
    "    \"codigoDosesVacina\",\n",
    "    \"codigoTipoTeste1\",\n",
    "    \"codigoEstadoTeste1\",\n",
    "    \"codigoResultadoTeste1\",\n",
    "    \"codigoBuscaAtivaAssintomatico\"\n",
    "]\n",
    "\n",
    "dim_colunas_presentes = [col for col in dim_colunas if col in dataPaciente.columns]\n",
    "\n",
    "for col in dim_colunas_presentes:\n",
    "    dataPaciente[col] = dataPaciente[col].fillna(-1).astype(str)\n",
    "\n",
    "print(dataPaciente[dim_colunas_presentes].dtypes)\n"
   ]
  },
  {
   "cell_type": "code",
   "execution_count": 133,
   "metadata": {},
   "outputs": [
    {
     "name": "stderr",
     "output_type": "stream",
     "text": [
      "C:\\Users\\leoba\\AppData\\Local\\Temp\\ipykernel_30784\\3123684326.py:22: FutureWarning: Passing 'suffixes' which cause duplicate columns {'Descricao_x'} in the result is deprecated and will raise a MergeError in a future version.\n",
      "  df_final = pd.merge(\n",
      "C:\\Users\\leoba\\AppData\\Local\\Temp\\ipykernel_30784\\3123684326.py:36: FutureWarning: Passing 'suffixes' which cause duplicate columns {'Descricao_x'} in the result is deprecated and will raise a MergeError in a future version.\n",
      "  df_final = pd.merge(\n"
     ]
    },
    {
     "name": "stdout",
     "output_type": "stream",
     "text": [
      "                                           sintomas profissionalSaude  \\\n",
      "0                    Dispneia, Tosse, Dor de Cabeça               Não   \n",
      "1                    Dispneia, Febre, Tosse, Coriza               Não   \n",
      "2       Tosse, Dor de Cabeça, Distúrbios Gustativos               Não   \n",
      "3                                     Dor de Cabeça               Não   \n",
      "4                                     Tosse, Coriza               Não   \n",
      "...                                             ...               ...   \n",
      "466257                        Dor de Cabeça, Outros               Não   \n",
      "466258                               Outros, Coriza               Não   \n",
      "466259       Dor de Cabeça, Tosse, Dispneia, Coriza               Não   \n",
      "466260       Coriza, Dor de Cabeça, Dor de Garganta               Não   \n",
      "466261       Tosse, Dor de Garganta, Coriza, Outros               Não   \n",
      "\n",
      "         racaCor                                     outrosSintomas  \\\n",
      "0          Preta                                                NaN   \n",
      "1          Parda                                                NaN   \n",
      "2          Parda                                                NaN   \n",
      "3       Ignorado                                                NaN   \n",
      "4          Parda                                                NaN   \n",
      "...          ...                                                ...   \n",
      "466257     Parda                                            ASTENIA   \n",
      "466258    Branca                        CEFALEIA, DIARREIA,NAUSEAS,   \n",
      "466259    Branca                                                NaN   \n",
      "466260     Parda                                                NaN   \n",
      "466261    Branca  CONGESTAO NASAL,CEFALEIA, MIALGIA,DIFICULDADE ...   \n",
      "\n",
      "       outrasCondicoes profissionalSeguranca  cbo condicoes       sexo  \\\n",
      "0                  NaN                   Não  NaN       NaN   Feminino   \n",
      "1                  NaN                   Não  NaN       NaN  Masculino   \n",
      "2                  NaN                   Não  NaN       NaN  Masculino   \n",
      "3                  NaN                   Não  NaN       NaN  Masculino   \n",
      "4                  NaN                   Não  NaN       NaN  Masculino   \n",
      "...                ...                   ...  ...       ...        ...   \n",
      "466257             NaN                   Não  NaN       NaN  Masculino   \n",
      "466258             NaN                   Não  NaN       NaN   Feminino   \n",
      "466259             NaN                   Não  NaN       NaN   Feminino   \n",
      "466260             NaN                   Não  NaN       NaN   Feminino   \n",
      "466261             NaN                   Não  NaN       NaN   Feminino   \n",
      "\n",
      "         estado  ... dataColetaTeste2 dataColetaTeste3 dataColetaTeste4 idade  \\\n",
      "0       Alagoas  ...             None             None             None  29.0   \n",
      "1       Alagoas  ...             None             None             None   1.0   \n",
      "2       Alagoas  ...             None             None             None  21.0   \n",
      "3       Alagoas  ...             None             None             None  24.0   \n",
      "4       Alagoas  ...             None             None             None   3.0   \n",
      "...         ...  ...              ...              ...              ...   ...   \n",
      "466257  Alagoas  ...             None             None             None  30.0   \n",
      "466258  Alagoas  ...             None             None             None  19.0   \n",
      "466259  Alagoas  ...             None             None             None   NaN   \n",
      "466260  Alagoas  ...             None             None             None  22.0   \n",
      "466261  Alagoas  ...             None             None             None  21.0   \n",
      "\n",
      "       Descricao_x  Descricao_y Descricao_x  Descricao_y Descricao_x  \\\n",
      "0              NaN          NaN         NaN          NaN         NaN   \n",
      "1              NaN          NaN         NaN          NaN         NaN   \n",
      "2              NaN          NaN         NaN          NaN         NaN   \n",
      "3              NaN          NaN         NaN          NaN         NaN   \n",
      "4              NaN          NaN         NaN          NaN         NaN   \n",
      "...            ...          ...         ...          ...         ...   \n",
      "466257         NaN          NaN         NaN          NaN         NaN   \n",
      "466258         NaN          NaN         NaN          NaN         NaN   \n",
      "466259         Sim          NaN         NaN          NaN         NaN   \n",
      "466260         Sim          NaN         NaN          NaN         NaN   \n",
      "466261         NaN          NaN         NaN          NaN         NaN   \n",
      "\n",
      "        Descricao_y  \n",
      "0               NaN  \n",
      "1               NaN  \n",
      "2               NaN  \n",
      "3               NaN  \n",
      "4               NaN  \n",
      "...             ...  \n",
      "466257          NaN  \n",
      "466258          NaN  \n",
      "466259          NaN  \n",
      "466260          NaN  \n",
      "466261          NaN  \n",
      "\n",
      "[466262 rows x 70 columns]\n"
     ]
    }
   ],
   "source": [
    "df_final = pd.merge(\n",
    "    dataPaciente,\n",
    "    dim_codigoRecebeuVacina,\n",
    "    on=\"codigoRecebeuVacina\",\n",
    "    how=\"left\"\n",
    ")\n",
    "\n",
    "df_final = pd.merge(\n",
    "    df_final,\n",
    "    dim_codigoDosesVacina,\n",
    "    on=\"codigoDosesVacina\",\n",
    "    how=\"left\"\n",
    ")\n",
    "\n",
    "df_final = pd.merge(\n",
    "    df_final,\n",
    "    dim_codigoTipoTeste.rename(columns={\"codigoTipoTeste\": \"codigoTipoTeste1\"}),\n",
    "    on=\"codigoTipoTeste1\",\n",
    "    how=\"left\"\n",
    ")\n",
    "\n",
    "df_final = pd.merge(\n",
    "    df_final,\n",
    "    dim_codigoEstadoTeste.rename(columns={\"codigoEstadoTeste\": \"codigoEstadoTeste1\"}),\n",
    "    on=\"codigoEstadoTeste1\",\n",
    "    how=\"left\"\n",
    ")\n",
    "\n",
    "df_final = pd.merge(\n",
    "    df_final,\n",
    "    dim_codigoResultadoTeste.rename(columns={\"codigoResultadoTeste\": \"codigoResultadoTeste1\"}),\n",
    "    on=\"codigoResultadoTeste1\",\n",
    "    how=\"left\"\n",
    ")\n",
    "\n",
    "df_final = pd.merge(\n",
    "    df_final,\n",
    "    dim_codigoBuscaAtivaAssintomatico,\n",
    "    on=\"codigoBuscaAtivaAssintomatico\",\n",
    "    how=\"left\"\n",
    ")\n",
    "\n",
    "print(df_final)"
   ]
  },
  {
   "cell_type": "code",
   "execution_count": 134,
   "metadata": {},
   "outputs": [
    {
     "name": "stdout",
     "output_type": "stream",
     "text": [
      "../data/processed/df_processed.csv\n"
     ]
    }
   ],
   "source": [
    "processed_path = f\"../{config['directories']['processed_data']}/df_processed.csv\"\n",
    "print(processed_path)\n",
    "df_final.to_csv(processed_path, index=False, encoding=\"utf-8\")"
   ]
  }
 ],
 "metadata": {
  "kernelspec": {
   "display_name": "venv",
   "language": "python",
   "name": "python3"
  },
  "language_info": {
   "codemirror_mode": {
    "name": "ipython",
    "version": 3
   },
   "file_extension": ".py",
   "mimetype": "text/x-python",
   "name": "python",
   "nbconvert_exporter": "python",
   "pygments_lexer": "ipython3",
   "version": "3.11.4"
  }
 },
 "nbformat": 4,
 "nbformat_minor": 2
}
